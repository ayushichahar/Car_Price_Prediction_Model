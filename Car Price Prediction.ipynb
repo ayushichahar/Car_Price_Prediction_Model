{
 "cells": [
  {
   "cell_type": "markdown",
   "id": "4aecd63a-30b3-47df-ba60-726359844d40",
   "metadata": {},
   "source": [
    "## Import Neccessary Libraries"
   ]
  },
  {
   "cell_type": "code",
   "execution_count": 1,
   "id": "f96aa247-0b88-4c5f-84bf-b4de89cb44ff",
   "metadata": {},
   "outputs": [],
   "source": [
    "import numpy as np \n",
    "import pandas as pd\n",
    "from matplotlib import pyplot as plt\n",
    "import seaborn as sns\n",
    "import warnings \n",
    "%matplotlib inline "
   ]
  },
  {
   "cell_type": "markdown",
   "id": "d8e32786-56f2-40de-9e19-2d8fb2a79371",
   "metadata": {},
   "source": [
    "## Reading CSV Files "
   ]
  },
  {
   "cell_type": "code",
   "execution_count": 2,
   "id": "54e18e18-0c14-437d-9d5e-3d9f8bbbc352",
   "metadata": {},
   "outputs": [],
   "source": [
    "df=pd.read_csv('honda_car_selling.csv')"
   ]
  },
  {
   "cell_type": "code",
   "execution_count": 3,
   "id": "719e3359-cfc2-4d61-9407-15e88aeea206",
   "metadata": {},
   "outputs": [
    {
     "data": {
      "text/html": [
       "<div>\n",
       "<style scoped>\n",
       "    .dataframe tbody tr th:only-of-type {\n",
       "        vertical-align: middle;\n",
       "    }\n",
       "\n",
       "    .dataframe tbody tr th {\n",
       "        vertical-align: top;\n",
       "    }\n",
       "\n",
       "    .dataframe thead th {\n",
       "        text-align: right;\n",
       "    }\n",
       "</style>\n",
       "<table border=\"1\" class=\"dataframe\">\n",
       "  <thead>\n",
       "    <tr style=\"text-align: right;\">\n",
       "      <th></th>\n",
       "      <th>Year</th>\n",
       "      <th>kms Driven</th>\n",
       "      <th>Fuel Type</th>\n",
       "      <th>Suspension</th>\n",
       "      <th>Price</th>\n",
       "      <th>Car Model</th>\n",
       "    </tr>\n",
       "  </thead>\n",
       "  <tbody>\n",
       "    <tr>\n",
       "      <th>0</th>\n",
       "      <td>2019</td>\n",
       "      <td>19006 kms</td>\n",
       "      <td>Petrol</td>\n",
       "      <td>Automatic</td>\n",
       "      <td>9.29 Lakh</td>\n",
       "      <td>Honda City V CVT</td>\n",
       "    </tr>\n",
       "    <tr>\n",
       "      <th>1</th>\n",
       "      <td>2021</td>\n",
       "      <td>11936 kms</td>\n",
       "      <td>Petrol</td>\n",
       "      <td>Automatic</td>\n",
       "      <td>13.95 Lakh</td>\n",
       "      <td>Honda City ZX CVT</td>\n",
       "    </tr>\n",
       "    <tr>\n",
       "      <th>2</th>\n",
       "      <td>2018</td>\n",
       "      <td>29635 kms</td>\n",
       "      <td>Petrol</td>\n",
       "      <td>Automatic</td>\n",
       "      <td>9.95 Lakh</td>\n",
       "      <td>Honda City i-VTEC CVT ZX</td>\n",
       "    </tr>\n",
       "    <tr>\n",
       "      <th>3</th>\n",
       "      <td>2020</td>\n",
       "      <td>16163 kms</td>\n",
       "      <td>Petrol</td>\n",
       "      <td>Automatic</td>\n",
       "      <td>13.26 Lakh</td>\n",
       "      <td>Honda City ZX CVT</td>\n",
       "    </tr>\n",
       "    <tr>\n",
       "      <th>4</th>\n",
       "      <td>2015</td>\n",
       "      <td>105114 kms</td>\n",
       "      <td>Petrol</td>\n",
       "      <td>Manual</td>\n",
       "      <td>5.68 Lakh</td>\n",
       "      <td>Honda City i VTEC V</td>\n",
       "    </tr>\n",
       "  </tbody>\n",
       "</table>\n",
       "</div>"
      ],
      "text/plain": [
       "   Year   kms Driven Fuel Type  Suspension        Price  \\\n",
       "0  2019   19006 kms    Petrol    Automatic    9.29 Lakh   \n",
       "1  2021   11936 kms    Petrol    Automatic   13.95 Lakh   \n",
       "2  2018   29635 kms    Petrol    Automatic    9.95 Lakh   \n",
       "3  2020   16163 kms    Petrol    Automatic   13.26 Lakh   \n",
       "4  2015  105114 kms    Petrol       Manual    5.68 Lakh   \n",
       "\n",
       "                  Car Model  \n",
       "0          Honda City V CVT  \n",
       "1         Honda City ZX CVT  \n",
       "2  Honda City i-VTEC CVT ZX  \n",
       "3         Honda City ZX CVT  \n",
       "4       Honda City i VTEC V  "
      ]
     },
     "execution_count": 3,
     "metadata": {},
     "output_type": "execute_result"
    }
   ],
   "source": [
    "df.head()"
   ]
  },
  {
   "cell_type": "markdown",
   "id": "5407968c-ae34-4ba0-a9de-eb86bb5d6a31",
   "metadata": {},
   "source": [
    "## Data Cleaning "
   ]
  },
  {
   "cell_type": "markdown",
   "id": "d7bbf217-ba3d-48ed-ab74-59bd2dc9ae09",
   "metadata": {},
   "source": [
    "### Creating a backup file"
   ]
  },
  {
   "cell_type": "code",
   "execution_count": 4,
   "id": "63032fc9-3981-49f1-91cf-5ae826607773",
   "metadata": {},
   "outputs": [],
   "source": [
    "df_backup = df.copy()"
   ]
  },
  {
   "cell_type": "markdown",
   "id": "9ea71f7c-454f-4e28-b153-195a60e43143",
   "metadata": {},
   "source": [
    "### Info of the dataset"
   ]
  },
  {
   "cell_type": "code",
   "execution_count": 5,
   "id": "44e71e3b-93ad-427b-bf52-27cbb014449f",
   "metadata": {},
   "outputs": [
    {
     "data": {
      "text/plain": [
       "(999, 6)"
      ]
     },
     "execution_count": 5,
     "metadata": {},
     "output_type": "execute_result"
    }
   ],
   "source": [
    "df.shape"
   ]
  },
  {
   "cell_type": "code",
   "execution_count": 6,
   "id": "326dd1a8-99c1-43f7-8e27-6a358c7a72de",
   "metadata": {},
   "outputs": [
    {
     "name": "stdout",
     "output_type": "stream",
     "text": [
      "<class 'pandas.core.frame.DataFrame'>\n",
      "RangeIndex: 999 entries, 0 to 998\n",
      "Data columns (total 6 columns):\n",
      " #   Column      Non-Null Count  Dtype \n",
      "---  ------      --------------  ----- \n",
      " 0   Year        999 non-null    int64 \n",
      " 1   kms Driven  999 non-null    object\n",
      " 2   Fuel Type   999 non-null    object\n",
      " 3   Suspension  999 non-null    object\n",
      " 4   Price       999 non-null    object\n",
      " 5   Car Model   999 non-null    object\n",
      "dtypes: int64(1), object(5)\n",
      "memory usage: 47.0+ KB\n"
     ]
    }
   ],
   "source": [
    "df.info()"
   ]
  },
  {
   "cell_type": "code",
   "execution_count": 7,
   "id": "d538b2bf-7ebe-4abb-8cf0-51065e3ced48",
   "metadata": {},
   "outputs": [
    {
     "data": {
      "text/plain": [
       "Year          0\n",
       "kms Driven    0\n",
       "Fuel Type     0\n",
       "Suspension    0\n",
       "Price         0\n",
       "Car Model     0\n",
       "dtype: int64"
      ]
     },
     "execution_count": 7,
     "metadata": {},
     "output_type": "execute_result"
    }
   ],
   "source": [
    "df.isnull().sum()"
   ]
  },
  {
   "cell_type": "markdown",
   "id": "66b2b337-ac1f-442b-871b-1d7a6b491c72",
   "metadata": {},
   "source": [
    "### Cleaning Year Column"
   ]
  },
  {
   "cell_type": "code",
   "execution_count": 8,
   "id": "f487ef39-1fb9-44fb-867c-d03a0d5cdfe4",
   "metadata": {},
   "outputs": [
    {
     "data": {
      "text/plain": [
       "array([2019, 2021, 2018, 2020, 2015, 2016, 2014, 2017, 2022, 2013, 2012,\n",
       "       2010, 2011, 2008, 2009, 2023, 2007, 2005, 2004, 2003, 2006, 2000],\n",
       "      dtype=int64)"
      ]
     },
     "execution_count": 8,
     "metadata": {},
     "output_type": "execute_result"
    }
   ],
   "source": [
    "df['Year'].unique()"
   ]
  },
  {
   "cell_type": "markdown",
   "id": "a51c0536-252f-4318-9ec2-ffb4fb749e77",
   "metadata": {},
   "source": [
    "As, we see Year Column has no Non-Year Values and it is in (int) DataType so It is already Clean"
   ]
  },
  {
   "cell_type": "markdown",
   "id": "4ccacd45-6eb8-41f9-b0ca-57fd0cc38d02",
   "metadata": {},
   "source": [
    "### Cleaning kms Driven Column"
   ]
  },
  {
   "cell_type": "code",
   "execution_count": 9,
   "id": "4c89b681-c030-4d18-bee2-32b70406d09b",
   "metadata": {},
   "outputs": [],
   "source": [
    "df[\"kms Driven\"] = df[\"kms Driven\"].astype(str)"
   ]
  },
  {
   "cell_type": "markdown",
   "id": "91329fe3-3afd-4430-b462-539d70c44c17",
   "metadata": {},
   "source": [
    "Firstly, we will strip the White Spaces from both the ends from the String"
   ]
  },
  {
   "cell_type": "code",
   "execution_count": 10,
   "id": "f61f65e8-ca22-450c-ac06-c32e9a8c85b5",
   "metadata": {},
   "outputs": [],
   "source": [
    "df['kms Driven']=df['kms Driven'].str.strip()"
   ]
  },
  {
   "cell_type": "markdown",
   "id": "d6b75bc1-a49c-4050-ae1f-ff95fdad2bd1",
   "metadata": {},
   "source": [
    "Then, we will Split the String with Space Delimiter and keep the First Numeric Part"
   ]
  },
  {
   "cell_type": "code",
   "execution_count": 11,
   "id": "bbdc9e26-540c-47e7-8fe0-420afeffbe04",
   "metadata": {},
   "outputs": [],
   "source": [
    "df[\"kms Driven\"] = df[\"kms Driven\"].str.split().str.get(0)"
   ]
  },
  {
   "cell_type": "markdown",
   "id": "771649ad-ef9c-4400-bbba-78608d1deedb",
   "metadata": {},
   "source": [
    "And, finally we will convert the kms Driven into (int) DataType"
   ]
  },
  {
   "cell_type": "code",
   "execution_count": 12,
   "id": "07441448-e800-495f-a87e-dea807a4d9ff",
   "metadata": {},
   "outputs": [],
   "source": [
    "df[\"kms Driven\"] = df[\"kms Driven\"].astype(int)"
   ]
  },
  {
   "cell_type": "markdown",
   "id": "1ebfaf07-6bad-460a-9d79-e19cf7193279",
   "metadata": {},
   "source": [
    "### Cleaning Fuel Type Column"
   ]
  },
  {
   "cell_type": "markdown",
   "id": "69ea9c9d-96bb-4fe1-bcab-a797d6e906bc",
   "metadata": {},
   "source": [
    "Here, we can see Extra White Spaces in Fuel Type Column"
   ]
  },
  {
   "cell_type": "code",
   "execution_count": 13,
   "id": "bb50d152-030b-45a4-a220-248f0d72a14d",
   "metadata": {},
   "outputs": [
    {
     "data": {
      "text/plain": [
       "array([' Petrol ', ' Diesel ', ' CNG '], dtype=object)"
      ]
     },
     "execution_count": 13,
     "metadata": {},
     "output_type": "execute_result"
    }
   ],
   "source": [
    "df['Fuel Type'].unique()"
   ]
  },
  {
   "cell_type": "markdown",
   "id": "764ad3bb-1ba2-499e-b7c2-45f525be5631",
   "metadata": {},
   "source": [
    "We will Strip the Extra White Spaces from both ends in Fuel Type Column"
   ]
  },
  {
   "cell_type": "code",
   "execution_count": 14,
   "id": "0e9afa68-2e0f-4a5c-8e72-95cca849529e",
   "metadata": {},
   "outputs": [],
   "source": [
    "df['Fuel Type']=df['Fuel Type'].str.strip()"
   ]
  },
  {
   "cell_type": "markdown",
   "id": "393efeee-13ce-4cc7-9d9b-8783b76fe06f",
   "metadata": {},
   "source": [
    "### Cleaning Suspension Column"
   ]
  },
  {
   "cell_type": "markdown",
   "id": "ebc5f277-129c-4675-9567-0d77c2591b15",
   "metadata": {},
   "source": [
    "Here, we can see Extra White Spaces in Suspension Column"
   ]
  },
  {
   "cell_type": "code",
   "execution_count": 15,
   "id": "5564a596-8927-44b8-aee0-bca8c1cd3a8d",
   "metadata": {},
   "outputs": [
    {
     "data": {
      "text/plain": [
       "array([' Automatic', ' Manual'], dtype=object)"
      ]
     },
     "execution_count": 15,
     "metadata": {},
     "output_type": "execute_result"
    }
   ],
   "source": [
    "df['Suspension'].unique()"
   ]
  },
  {
   "cell_type": "code",
   "execution_count": 16,
   "id": "ddc13741-cf44-49ed-b848-10fe8096937b",
   "metadata": {},
   "outputs": [],
   "source": [
    "df['Suspension']=df['Suspension'].str.strip()"
   ]
  },
  {
   "cell_type": "markdown",
   "id": "be30311b-8676-48a7-a253-f1ad0b463920",
   "metadata": {},
   "source": [
    "### Cleaning Price Column"
   ]
  },
  {
   "cell_type": "markdown",
   "id": "6572196a-8756-424c-8be4-9af2bf016783",
   "metadata": {},
   "source": [
    "Firstly, we will Strip the Extra White Spaces from both ends in Price Column"
   ]
  },
  {
   "cell_type": "code",
   "execution_count": 17,
   "id": "1ca4a814-3f61-4477-92e2-897404fd849c",
   "metadata": {},
   "outputs": [],
   "source": [
    "df['Price']=df['Price'].str.strip()"
   ]
  },
  {
   "cell_type": "markdown",
   "id": "a308c6c7-551c-4a79-85fb-c880ef7f17df",
   "metadata": {},
   "source": [
    "Here, we have created a Function which will convert the Price from (6.35 Lakh to 635000) and store it back to Price Column"
   ]
  },
  {
   "cell_type": "code",
   "execution_count": 18,
   "id": "305c3059-5bd4-44d1-903d-f5635c905a76",
   "metadata": {},
   "outputs": [],
   "source": [
    "def price_cleaner(values):\n",
    "    output = values.split()\n",
    "    result = [eval(i) for i in output]\n",
    "    return np.prod(result)\n",
    "    \n",
    "df[\"Price\"] = df[\"Price\"].str.strip()\n",
    "df[\"Price\"] = df[\"Price\"].str.replace(',','')\n",
    "df[\"Price\"] = df[\"Price\"].str.replace('Lakh','100000')\n",
    "df[\"Price\"] = df[\"Price\"].map(price_cleaner)"
   ]
  },
  {
   "cell_type": "markdown",
   "id": "36229b1a-f5e6-4d92-8288-ed01663fd933",
   "metadata": {},
   "source": [
    "And, finally we will convert the Price into (int) DataType"
   ]
  },
  {
   "cell_type": "code",
   "execution_count": 19,
   "id": "5dab977c-b5c4-49b4-ad2f-e980795369f5",
   "metadata": {},
   "outputs": [],
   "source": [
    "df[\"Price\"] = df[\"Price\"].astype(int)"
   ]
  },
  {
   "cell_type": "markdown",
   "id": "90b9d60a-d0a2-4851-913e-b22014a19aa1",
   "metadata": {},
   "source": [
    "### Cleaning Car Model Column"
   ]
  },
  {
   "cell_type": "markdown",
   "id": "b3c08e8e-8b0a-4232-aed5-37d0c02d4740",
   "metadata": {},
   "source": [
    "Firstly, we will Strip the Extra White Spaces from both ends in Car Model Column"
   ]
  },
  {
   "cell_type": "code",
   "execution_count": 20,
   "id": "6b800626-e2b7-4c0d-b212-0844ccab8810",
   "metadata": {},
   "outputs": [],
   "source": [
    "df['Car Model']=df['Car Model'].str.strip()"
   ]
  },
  {
   "cell_type": "markdown",
   "id": "5371505f-b7fe-4912-b6de-f192b46c00a2",
   "metadata": {},
   "source": [
    "Then, we will Split the String with Space Delimiter and keep the First Three Words"
   ]
  },
  {
   "cell_type": "code",
   "execution_count": 21,
   "id": "b68b1f8e-5d9a-402a-aa5d-7e1433e28cb1",
   "metadata": {},
   "outputs": [],
   "source": [
    "df['Car Model']=df['Car Model'].str.split()"
   ]
  },
  {
   "cell_type": "code",
   "execution_count": 22,
   "id": "5457151f-a440-4bba-abfe-7278916bed87",
   "metadata": {},
   "outputs": [],
   "source": [
    "df['Car Model'] = df['Car Model'].astype(str).str.strip('[]').str.replace(',', '').str.replace(\"'\", \"\").str.strip().str.split().str[:3].str.join(' ')"
   ]
  },
  {
   "cell_type": "code",
   "execution_count": 23,
   "id": "1314a9d2-8575-459a-9648-26dc7ad75169",
   "metadata": {},
   "outputs": [],
   "source": [
    "df.to_csv('Cleaned_Car_Data.csv')"
   ]
  },
  {
   "cell_type": "markdown",
   "id": "e18965e8-6507-4961-aa71-77cc7748199a",
   "metadata": {},
   "source": [
    "## Data Visualization"
   ]
  },
  {
   "cell_type": "markdown",
   "id": "33cee186-b549-4c4a-8723-699e1408738d",
   "metadata": {},
   "source": [
    "### Relationship of Year with Price"
   ]
  },
  {
   "cell_type": "code",
   "execution_count": 24,
   "id": "b6295d96-22b5-46ff-8cbf-5473939620c5",
   "metadata": {},
   "outputs": [
    {
     "data": {
      "image/png": "[encoded data removed]",
      "text/plain": [
       "<Figure size 1500x600 with 1 Axes>"
      ]
     },
     "metadata": {},
     "output_type": "display_data"
    }
   ],
   "source": [
    "plt.figure(figsize=(15, 6))\n",
    "plt.scatter(df['Year'], df['Price'], alpha=0.5)\n",
    "plt.title('Relationship of Year with Price')\n",
    "plt.xlabel('Year')\n",
    "plt.ylabel('Price')\n",
    "plt.grid(True)\n",
    "plt.show()"
   ]
  },
  {
   "cell_type": "code",
   "execution_count": 25,
   "id": "ed0b642a-df4a-42e7-8ccd-121c2e307a0f",
   "metadata": {},
   "outputs": [
    {
     "data": {
      "image/png": "[encoded data removed]",
      "text/plain": [
       "<Figure size 1000x600 with 1 Axes>"
      ]
     },
     "metadata": {},
     "output_type": "display_data"
    }
   ],
   "source": [
    "plt.figure(figsize=(10, 6))\n",
    "sns.lineplot(x='Year', y='Price', data=df)\n",
    "plt.title('Relationship of Year with Price')\n",
    "plt.xlabel('Year')\n",
    "plt.ylabel('Price')\n",
    "plt.grid(True)\n",
    "plt.show()"
   ]
  },
  {
   "cell_type": "markdown",
   "id": "ce058cee-d045-4a2d-be3b-a091188d083e",
   "metadata": {},
   "source": [
    "### Relationship of kms Driven with Price"
   ]
  },
  {
   "cell_type": "code",
   "execution_count": 26,
   "id": "0984c13d-df9f-4a1f-b328-ce4602f4547a",
   "metadata": {},
   "outputs": [
    {
     "data": {
      "image/png": "[encoded data removed]",
      "text/plain": [
       "<Figure size 1500x600 with 1 Axes>"
      ]
     },
     "metadata": {},
     "output_type": "display_data"
    }
   ],
   "source": [
    "plt.figure(figsize=(15, 6))\n",
    "sns.scatterplot(x='kms Driven', y='Price', hue='Year', data=df)\n",
    "plt.title('Relationship of kms Driven with Price (Colored by Year)')\n",
    "plt.xlabel('kms Driven')\n",
    "plt.ylabel('Price')\n",
    "plt.grid(True)\n",
    "plt.show()"
   ]
  },
  {
   "cell_type": "markdown",
   "id": "16e2dcba-249b-4756-a3d7-bbcbc80e2678",
   "metadata": {},
   "source": [
    "### Relationship of Price with Car Model, Suspension as Hue"
   ]
  },
  {
   "cell_type": "code",
   "execution_count": 27,
   "id": "ce874f44-88fd-45c0-b48e-c982643fb3b9",
   "metadata": {},
   "outputs": [
    {
     "data": {
      "image/png": "[encoded data removed]",
      "text/plain": [
       "<Figure size 1500x800 with 1 Axes>"
      ]
     },
     "metadata": {},
     "output_type": "display_data"
    }
   ],
   "source": [
    "plt.figure(figsize=(15, 8))\n",
    "sns.scatterplot(x='Car Model', y='Price', hue='Suspension', data=df)\n",
    "plt.title('Relationship of Price with Car Model (Colored by Suspension)')\n",
    "plt.xlabel('Car Model')\n",
    "plt.ylabel('Price')\n",
    "plt.xticks(rotation=90)  # Rotate x-axis labels for better readability\n",
    "plt.legend(title='Suspension')\n",
    "plt.grid(True)\n",
    "plt.show()"
   ]
  },
  {
   "cell_type": "markdown",
   "id": "240ac13c-51fd-405f-88d2-c571a0754ae3",
   "metadata": {},
   "source": [
    "## Dummy Variable"
   ]
  },
  {
   "cell_type": "markdown",
   "id": "74d6368f-4052-488f-af21-586e778000c9",
   "metadata": {},
   "source": [
    "variables such as \"Car Model,\" \"Color,\" or \"Suspension Type\" are categorical, meaning they represent categories rather than numerical values. However, most regression or machine learning algorithms require numerical inputs. Dummy variables provide a way to represent categorical data as numerical values."
   ]
  },
  {
   "cell_type": "markdown",
   "id": "f730c2a7-9305-4cb5-87ce-c705cbd38088",
   "metadata": {},
   "source": [
    "### Creating Dummy Variable for Fuel Type Column"
   ]
  },
  {
   "cell_type": "code",
   "execution_count": 28,
   "id": "fa3385ff-223c-4f0f-acb9-cc11a0e38253",
   "metadata": {},
   "outputs": [],
   "source": [
    "dummies1 = pd.get_dummies(df[\"Fuel Type\"],dtype = \"int\")"
   ]
  },
  {
   "cell_type": "markdown",
   "id": "910f7d4d-716d-4f70-a38b-05d25b21319f",
   "metadata": {},
   "source": [
    "### Converting dummies1 to DataFrame"
   ]
  },
  {
   "cell_type": "code",
   "execution_count": 29,
   "id": "c8d267d5-cb59-4857-8dce-7fde9cdf6fb8",
   "metadata": {},
   "outputs": [
    {
     "data": {
      "text/html": [
       "<div>\n",
       "<style scoped>\n",
       "    .dataframe tbody tr th:only-of-type {\n",
       "        vertical-align: middle;\n",
       "    }\n",
       "\n",
       "    .dataframe tbody tr th {\n",
       "        vertical-align: top;\n",
       "    }\n",
       "\n",
       "    .dataframe thead th {\n",
       "        text-align: right;\n",
       "    }\n",
       "</style>\n",
       "<table border=\"1\" class=\"dataframe\">\n",
       "  <thead>\n",
       "    <tr style=\"text-align: right;\">\n",
       "      <th></th>\n",
       "      <th>CNG</th>\n",
       "      <th>Diesel</th>\n",
       "      <th>Petrol</th>\n",
       "    </tr>\n",
       "  </thead>\n",
       "  <tbody>\n",
       "    <tr>\n",
       "      <th>0</th>\n",
       "      <td>0</td>\n",
       "      <td>0</td>\n",
       "      <td>1</td>\n",
       "    </tr>\n",
       "    <tr>\n",
       "      <th>1</th>\n",
       "      <td>0</td>\n",
       "      <td>0</td>\n",
       "      <td>1</td>\n",
       "    </tr>\n",
       "    <tr>\n",
       "      <th>2</th>\n",
       "      <td>0</td>\n",
       "      <td>0</td>\n",
       "      <td>1</td>\n",
       "    </tr>\n",
       "    <tr>\n",
       "      <th>3</th>\n",
       "      <td>0</td>\n",
       "      <td>0</td>\n",
       "      <td>1</td>\n",
       "    </tr>\n",
       "    <tr>\n",
       "      <th>4</th>\n",
       "      <td>0</td>\n",
       "      <td>0</td>\n",
       "      <td>1</td>\n",
       "    </tr>\n",
       "  </tbody>\n",
       "</table>\n",
       "</div>"
      ],
      "text/plain": [
       "   CNG  Diesel  Petrol\n",
       "0    0       0       1\n",
       "1    0       0       1\n",
       "2    0       0       1\n",
       "3    0       0       1\n",
       "4    0       0       1"
      ]
     },
     "execution_count": 29,
     "metadata": {},
     "output_type": "execute_result"
    }
   ],
   "source": [
    "fuel_dummies = pd.DataFrame(dummies1)\n",
    "fuel_dummies.head()"
   ]
  },
  {
   "cell_type": "markdown",
   "id": "134225e7-6eb9-4507-99d8-ddfa14ffb9e8",
   "metadata": {},
   "source": [
    "### Merging df and fuel_dummies and store it into a New DataFrame"
   ]
  },
  {
   "cell_type": "code",
   "execution_count": 30,
   "id": "2cee2d6d-5424-449c-b43a-6cfef7ee4446",
   "metadata": {},
   "outputs": [],
   "source": [
    "df2 = pd.concat([df,fuel_dummies],axis = \"columns\")"
   ]
  },
  {
   "cell_type": "code",
   "execution_count": 31,
   "id": "de097be2-bc74-4a73-a7d6-72b8768e4b40",
   "metadata": {},
   "outputs": [
    {
     "data": {
      "text/html": [
       "<div>\n",
       "<style scoped>\n",
       "    .dataframe tbody tr th:only-of-type {\n",
       "        vertical-align: middle;\n",
       "    }\n",
       "\n",
       "    .dataframe tbody tr th {\n",
       "        vertical-align: top;\n",
       "    }\n",
       "\n",
       "    .dataframe thead th {\n",
       "        text-align: right;\n",
       "    }\n",
       "</style>\n",
       "<table border=\"1\" class=\"dataframe\">\n",
       "  <thead>\n",
       "    <tr style=\"text-align: right;\">\n",
       "      <th></th>\n",
       "      <th>Year</th>\n",
       "      <th>kms Driven</th>\n",
       "      <th>Fuel Type</th>\n",
       "      <th>Suspension</th>\n",
       "      <th>Price</th>\n",
       "      <th>Car Model</th>\n",
       "      <th>CNG</th>\n",
       "      <th>Diesel</th>\n",
       "      <th>Petrol</th>\n",
       "    </tr>\n",
       "  </thead>\n",
       "  <tbody>\n",
       "    <tr>\n",
       "      <th>0</th>\n",
       "      <td>2019</td>\n",
       "      <td>19006</td>\n",
       "      <td>Petrol</td>\n",
       "      <td>Automatic</td>\n",
       "      <td>928999</td>\n",
       "      <td>Honda City V</td>\n",
       "      <td>0</td>\n",
       "      <td>0</td>\n",
       "      <td>1</td>\n",
       "    </tr>\n",
       "    <tr>\n",
       "      <th>1</th>\n",
       "      <td>2021</td>\n",
       "      <td>11936</td>\n",
       "      <td>Petrol</td>\n",
       "      <td>Automatic</td>\n",
       "      <td>1395000</td>\n",
       "      <td>Honda City ZX</td>\n",
       "      <td>0</td>\n",
       "      <td>0</td>\n",
       "      <td>1</td>\n",
       "    </tr>\n",
       "    <tr>\n",
       "      <th>2</th>\n",
       "      <td>2018</td>\n",
       "      <td>29635</td>\n",
       "      <td>Petrol</td>\n",
       "      <td>Automatic</td>\n",
       "      <td>994999</td>\n",
       "      <td>Honda City i-VTEC</td>\n",
       "      <td>0</td>\n",
       "      <td>0</td>\n",
       "      <td>1</td>\n",
       "    </tr>\n",
       "    <tr>\n",
       "      <th>3</th>\n",
       "      <td>2020</td>\n",
       "      <td>16163</td>\n",
       "      <td>Petrol</td>\n",
       "      <td>Automatic</td>\n",
       "      <td>1326000</td>\n",
       "      <td>Honda City ZX</td>\n",
       "      <td>0</td>\n",
       "      <td>0</td>\n",
       "      <td>1</td>\n",
       "    </tr>\n",
       "    <tr>\n",
       "      <th>4</th>\n",
       "      <td>2015</td>\n",
       "      <td>105114</td>\n",
       "      <td>Petrol</td>\n",
       "      <td>Manual</td>\n",
       "      <td>568000</td>\n",
       "      <td>Honda City i</td>\n",
       "      <td>0</td>\n",
       "      <td>0</td>\n",
       "      <td>1</td>\n",
       "    </tr>\n",
       "    <tr>\n",
       "      <th>5</th>\n",
       "      <td>2015</td>\n",
       "      <td>101466</td>\n",
       "      <td>Diesel</td>\n",
       "      <td>Manual</td>\n",
       "      <td>565000</td>\n",
       "      <td>Honda City i</td>\n",
       "      <td>0</td>\n",
       "      <td>1</td>\n",
       "      <td>0</td>\n",
       "    </tr>\n",
       "    <tr>\n",
       "      <th>6</th>\n",
       "      <td>2016</td>\n",
       "      <td>52456</td>\n",
       "      <td>Diesel</td>\n",
       "      <td>Manual</td>\n",
       "      <td>560000</td>\n",
       "      <td>Honda Jazz 1.5</td>\n",
       "      <td>0</td>\n",
       "      <td>1</td>\n",
       "      <td>0</td>\n",
       "    </tr>\n",
       "    <tr>\n",
       "      <th>7</th>\n",
       "      <td>2014</td>\n",
       "      <td>75247</td>\n",
       "      <td>Diesel</td>\n",
       "      <td>Manual</td>\n",
       "      <td>650000</td>\n",
       "      <td>Honda City i</td>\n",
       "      <td>0</td>\n",
       "      <td>1</td>\n",
       "      <td>0</td>\n",
       "    </tr>\n",
       "    <tr>\n",
       "      <th>8</th>\n",
       "      <td>2017</td>\n",
       "      <td>88695</td>\n",
       "      <td>Petrol</td>\n",
       "      <td>Manual</td>\n",
       "      <td>748000</td>\n",
       "      <td>Honda WR-V i-VTEC</td>\n",
       "      <td>0</td>\n",
       "      <td>0</td>\n",
       "      <td>1</td>\n",
       "    </tr>\n",
       "    <tr>\n",
       "      <th>9</th>\n",
       "      <td>2019</td>\n",
       "      <td>30906</td>\n",
       "      <td>Petrol</td>\n",
       "      <td>Automatic</td>\n",
       "      <td>797000</td>\n",
       "      <td>Honda Amaze V</td>\n",
       "      <td>0</td>\n",
       "      <td>0</td>\n",
       "      <td>1</td>\n",
       "    </tr>\n",
       "  </tbody>\n",
       "</table>\n",
       "</div>"
      ],
      "text/plain": [
       "   Year  kms Driven Fuel Type Suspension    Price          Car Model  CNG  \\\n",
       "0  2019       19006    Petrol  Automatic   928999       Honda City V    0   \n",
       "1  2021       11936    Petrol  Automatic  1395000      Honda City ZX    0   \n",
       "2  2018       29635    Petrol  Automatic   994999  Honda City i-VTEC    0   \n",
       "3  2020       16163    Petrol  Automatic  1326000      Honda City ZX    0   \n",
       "4  2015      105114    Petrol     Manual   568000       Honda City i    0   \n",
       "5  2015      101466    Diesel     Manual   565000       Honda City i    0   \n",
       "6  2016       52456    Diesel     Manual   560000     Honda Jazz 1.5    0   \n",
       "7  2014       75247    Diesel     Manual   650000       Honda City i    0   \n",
       "8  2017       88695    Petrol     Manual   748000  Honda WR-V i-VTEC    0   \n",
       "9  2019       30906    Petrol  Automatic   797000      Honda Amaze V    0   \n",
       "\n",
       "   Diesel  Petrol  \n",
       "0       0       1  \n",
       "1       0       1  \n",
       "2       0       1  \n",
       "3       0       1  \n",
       "4       0       1  \n",
       "5       1       0  \n",
       "6       1       0  \n",
       "7       1       0  \n",
       "8       0       1  \n",
       "9       0       1  "
      ]
     },
     "execution_count": 31,
     "metadata": {},
     "output_type": "execute_result"
    }
   ],
   "source": [
    "df2.head(10)"
   ]
  },
  {
   "cell_type": "markdown",
   "id": "1cdbfb0d-691b-4df0-9892-982c076da353",
   "metadata": {},
   "source": [
    "### Creating Dummy Variable for Suspension Column"
   ]
  },
  {
   "cell_type": "code",
   "execution_count": 32,
   "id": "87efb740-11a5-47f1-b623-6a5bcefe3335",
   "metadata": {},
   "outputs": [],
   "source": [
    "dummies2 = pd.get_dummies(df2[\"Suspension\"],dtype = \"int\")"
   ]
  },
  {
   "cell_type": "markdown",
   "id": "eab17ad8-06f3-4bb6-a6ed-5ea12d3624a9",
   "metadata": {},
   "source": [
    "### Converting dummies2 to DataFrame"
   ]
  },
  {
   "cell_type": "code",
   "execution_count": 33,
   "id": "a0a2a5db-7cd1-4ca7-ab21-779e08de921e",
   "metadata": {},
   "outputs": [
    {
     "data": {
      "text/html": [
       "<div>\n",
       "<style scoped>\n",
       "    .dataframe tbody tr th:only-of-type {\n",
       "        vertical-align: middle;\n",
       "    }\n",
       "\n",
       "    .dataframe tbody tr th {\n",
       "        vertical-align: top;\n",
       "    }\n",
       "\n",
       "    .dataframe thead th {\n",
       "        text-align: right;\n",
       "    }\n",
       "</style>\n",
       "<table border=\"1\" class=\"dataframe\">\n",
       "  <thead>\n",
       "    <tr style=\"text-align: right;\">\n",
       "      <th></th>\n",
       "      <th>Automatic</th>\n",
       "      <th>Manual</th>\n",
       "    </tr>\n",
       "  </thead>\n",
       "  <tbody>\n",
       "    <tr>\n",
       "      <th>0</th>\n",
       "      <td>1</td>\n",
       "      <td>0</td>\n",
       "    </tr>\n",
       "    <tr>\n",
       "      <th>1</th>\n",
       "      <td>1</td>\n",
       "      <td>0</td>\n",
       "    </tr>\n",
       "    <tr>\n",
       "      <th>2</th>\n",
       "      <td>1</td>\n",
       "      <td>0</td>\n",
       "    </tr>\n",
       "    <tr>\n",
       "      <th>3</th>\n",
       "      <td>1</td>\n",
       "      <td>0</td>\n",
       "    </tr>\n",
       "    <tr>\n",
       "      <th>4</th>\n",
       "      <td>0</td>\n",
       "      <td>1</td>\n",
       "    </tr>\n",
       "  </tbody>\n",
       "</table>\n",
       "</div>"
      ],
      "text/plain": [
       "   Automatic  Manual\n",
       "0          1       0\n",
       "1          1       0\n",
       "2          1       0\n",
       "3          1       0\n",
       "4          0       1"
      ]
     },
     "execution_count": 33,
     "metadata": {},
     "output_type": "execute_result"
    }
   ],
   "source": [
    "suspension_dummies = pd.DataFrame(dummies2)\n",
    "suspension_dummies.head(5)"
   ]
  },
  {
   "cell_type": "markdown",
   "id": "e3ced9e7-b81c-466d-a798-be7d86746e3b",
   "metadata": {},
   "source": [
    "### Merging df2 and suspension_dummies and store it into a New DataFrame"
   ]
  },
  {
   "cell_type": "code",
   "execution_count": 34,
   "id": "86e2669e-3b6a-4a6b-936c-00a0d7f5f7bc",
   "metadata": {},
   "outputs": [
    {
     "data": {
      "text/html": [
       "<div>\n",
       "<style scoped>\n",
       "    .dataframe tbody tr th:only-of-type {\n",
       "        vertical-align: middle;\n",
       "    }\n",
       "\n",
       "    .dataframe tbody tr th {\n",
       "        vertical-align: top;\n",
       "    }\n",
       "\n",
       "    .dataframe thead th {\n",
       "        text-align: right;\n",
       "    }\n",
       "</style>\n",
       "<table border=\"1\" class=\"dataframe\">\n",
       "  <thead>\n",
       "    <tr style=\"text-align: right;\">\n",
       "      <th></th>\n",
       "      <th>Year</th>\n",
       "      <th>kms Driven</th>\n",
       "      <th>Fuel Type</th>\n",
       "      <th>Suspension</th>\n",
       "      <th>Price</th>\n",
       "      <th>Car Model</th>\n",
       "      <th>CNG</th>\n",
       "      <th>Diesel</th>\n",
       "      <th>Petrol</th>\n",
       "      <th>Automatic</th>\n",
       "      <th>Manual</th>\n",
       "    </tr>\n",
       "  </thead>\n",
       "  <tbody>\n",
       "    <tr>\n",
       "      <th>0</th>\n",
       "      <td>2019</td>\n",
       "      <td>19006</td>\n",
       "      <td>Petrol</td>\n",
       "      <td>Automatic</td>\n",
       "      <td>928999</td>\n",
       "      <td>Honda City V</td>\n",
       "      <td>0</td>\n",
       "      <td>0</td>\n",
       "      <td>1</td>\n",
       "      <td>1</td>\n",
       "      <td>0</td>\n",
       "    </tr>\n",
       "    <tr>\n",
       "      <th>1</th>\n",
       "      <td>2021</td>\n",
       "      <td>11936</td>\n",
       "      <td>Petrol</td>\n",
       "      <td>Automatic</td>\n",
       "      <td>1395000</td>\n",
       "      <td>Honda City ZX</td>\n",
       "      <td>0</td>\n",
       "      <td>0</td>\n",
       "      <td>1</td>\n",
       "      <td>1</td>\n",
       "      <td>0</td>\n",
       "    </tr>\n",
       "    <tr>\n",
       "      <th>2</th>\n",
       "      <td>2018</td>\n",
       "      <td>29635</td>\n",
       "      <td>Petrol</td>\n",
       "      <td>Automatic</td>\n",
       "      <td>994999</td>\n",
       "      <td>Honda City i-VTEC</td>\n",
       "      <td>0</td>\n",
       "      <td>0</td>\n",
       "      <td>1</td>\n",
       "      <td>1</td>\n",
       "      <td>0</td>\n",
       "    </tr>\n",
       "    <tr>\n",
       "      <th>3</th>\n",
       "      <td>2020</td>\n",
       "      <td>16163</td>\n",
       "      <td>Petrol</td>\n",
       "      <td>Automatic</td>\n",
       "      <td>1326000</td>\n",
       "      <td>Honda City ZX</td>\n",
       "      <td>0</td>\n",
       "      <td>0</td>\n",
       "      <td>1</td>\n",
       "      <td>1</td>\n",
       "      <td>0</td>\n",
       "    </tr>\n",
       "    <tr>\n",
       "      <th>4</th>\n",
       "      <td>2015</td>\n",
       "      <td>105114</td>\n",
       "      <td>Petrol</td>\n",
       "      <td>Manual</td>\n",
       "      <td>568000</td>\n",
       "      <td>Honda City i</td>\n",
       "      <td>0</td>\n",
       "      <td>0</td>\n",
       "      <td>1</td>\n",
       "      <td>0</td>\n",
       "      <td>1</td>\n",
       "    </tr>\n",
       "    <tr>\n",
       "      <th>5</th>\n",
       "      <td>2015</td>\n",
       "      <td>101466</td>\n",
       "      <td>Diesel</td>\n",
       "      <td>Manual</td>\n",
       "      <td>565000</td>\n",
       "      <td>Honda City i</td>\n",
       "      <td>0</td>\n",
       "      <td>1</td>\n",
       "      <td>0</td>\n",
       "      <td>0</td>\n",
       "      <td>1</td>\n",
       "    </tr>\n",
       "    <tr>\n",
       "      <th>6</th>\n",
       "      <td>2016</td>\n",
       "      <td>52456</td>\n",
       "      <td>Diesel</td>\n",
       "      <td>Manual</td>\n",
       "      <td>560000</td>\n",
       "      <td>Honda Jazz 1.5</td>\n",
       "      <td>0</td>\n",
       "      <td>1</td>\n",
       "      <td>0</td>\n",
       "      <td>0</td>\n",
       "      <td>1</td>\n",
       "    </tr>\n",
       "    <tr>\n",
       "      <th>7</th>\n",
       "      <td>2014</td>\n",
       "      <td>75247</td>\n",
       "      <td>Diesel</td>\n",
       "      <td>Manual</td>\n",
       "      <td>650000</td>\n",
       "      <td>Honda City i</td>\n",
       "      <td>0</td>\n",
       "      <td>1</td>\n",
       "      <td>0</td>\n",
       "      <td>0</td>\n",
       "      <td>1</td>\n",
       "    </tr>\n",
       "    <tr>\n",
       "      <th>8</th>\n",
       "      <td>2017</td>\n",
       "      <td>88695</td>\n",
       "      <td>Petrol</td>\n",
       "      <td>Manual</td>\n",
       "      <td>748000</td>\n",
       "      <td>Honda WR-V i-VTEC</td>\n",
       "      <td>0</td>\n",
       "      <td>0</td>\n",
       "      <td>1</td>\n",
       "      <td>0</td>\n",
       "      <td>1</td>\n",
       "    </tr>\n",
       "    <tr>\n",
       "      <th>9</th>\n",
       "      <td>2019</td>\n",
       "      <td>30906</td>\n",
       "      <td>Petrol</td>\n",
       "      <td>Automatic</td>\n",
       "      <td>797000</td>\n",
       "      <td>Honda Amaze V</td>\n",
       "      <td>0</td>\n",
       "      <td>0</td>\n",
       "      <td>1</td>\n",
       "      <td>1</td>\n",
       "      <td>0</td>\n",
       "    </tr>\n",
       "  </tbody>\n",
       "</table>\n",
       "</div>"
      ],
      "text/plain": [
       "   Year  kms Driven Fuel Type Suspension    Price          Car Model  CNG  \\\n",
       "0  2019       19006    Petrol  Automatic   928999       Honda City V    0   \n",
       "1  2021       11936    Petrol  Automatic  1395000      Honda City ZX    0   \n",
       "2  2018       29635    Petrol  Automatic   994999  Honda City i-VTEC    0   \n",
       "3  2020       16163    Petrol  Automatic  1326000      Honda City ZX    0   \n",
       "4  2015      105114    Petrol     Manual   568000       Honda City i    0   \n",
       "5  2015      101466    Diesel     Manual   565000       Honda City i    0   \n",
       "6  2016       52456    Diesel     Manual   560000     Honda Jazz 1.5    0   \n",
       "7  2014       75247    Diesel     Manual   650000       Honda City i    0   \n",
       "8  2017       88695    Petrol     Manual   748000  Honda WR-V i-VTEC    0   \n",
       "9  2019       30906    Petrol  Automatic   797000      Honda Amaze V    0   \n",
       "\n",
       "   Diesel  Petrol  Automatic  Manual  \n",
       "0       0       1          1       0  \n",
       "1       0       1          1       0  \n",
       "2       0       1          1       0  \n",
       "3       0       1          1       0  \n",
       "4       0       1          0       1  \n",
       "5       1       0          0       1  \n",
       "6       1       0          0       1  \n",
       "7       1       0          0       1  \n",
       "8       0       1          0       1  \n",
       "9       0       1          1       0  "
      ]
     },
     "execution_count": 34,
     "metadata": {},
     "output_type": "execute_result"
    }
   ],
   "source": [
    "df3 = pd.concat([df2,suspension_dummies],axis = \"columns\")\n",
    "df3.head(10)"
   ]
  },
  {
   "cell_type": "markdown",
   "id": "4a400358-1f07-4fc3-941e-f497a706931a",
   "metadata": {},
   "source": [
    "### Creating Dummy Variable for Car Model Column"
   ]
  },
  {
   "cell_type": "code",
   "execution_count": 35,
   "id": "5b74c4f6-d9f9-4158-ad4d-85cb5d12dab3",
   "metadata": {},
   "outputs": [],
   "source": [
    "dummies3 = pd.get_dummies(df3['Car Model'],dtype='int')"
   ]
  },
  {
   "cell_type": "markdown",
   "id": "d71b359e-3b56-43f8-b118-e2fd59a66e49",
   "metadata": {},
   "source": [
    "### Converting dummies3 to DataFrame"
   ]
  },
  {
   "cell_type": "code",
   "execution_count": 36,
   "id": "3831e409-6459-4f59-a33d-bc506550a7e5",
   "metadata": {},
   "outputs": [
    {
     "data": {
      "text/html": [
       "<div>\n",
       "<style scoped>\n",
       "    .dataframe tbody tr th:only-of-type {\n",
       "        vertical-align: middle;\n",
       "    }\n",
       "\n",
       "    .dataframe tbody tr th {\n",
       "        vertical-align: top;\n",
       "    }\n",
       "\n",
       "    .dataframe thead th {\n",
       "        text-align: right;\n",
       "    }\n",
       "</style>\n",
       "<table border=\"1\" class=\"dataframe\">\n",
       "  <thead>\n",
       "    <tr style=\"text-align: right;\">\n",
       "      <th></th>\n",
       "      <th>Honda Accord 2.4</th>\n",
       "      <th>Honda Accord VTi-L</th>\n",
       "      <th>Honda Amaze E</th>\n",
       "      <th>Honda Amaze EX</th>\n",
       "      <th>Honda Amaze Exclusive</th>\n",
       "      <th>Honda Amaze S</th>\n",
       "      <th>Honda Amaze SX</th>\n",
       "      <th>Honda Amaze V</th>\n",
       "      <th>Honda Amaze VX</th>\n",
       "      <th>Honda Amaze i-DTEC</th>\n",
       "      <th>...</th>\n",
       "      <th>Honda Jazz X</th>\n",
       "      <th>Honda Mobilio E</th>\n",
       "      <th>Honda Mobilio RS</th>\n",
       "      <th>Honda Mobilio S</th>\n",
       "      <th>Honda Mobilio V</th>\n",
       "      <th>Honda WR-V Edge</th>\n",
       "      <th>Honda WR-V SV</th>\n",
       "      <th>Honda WR-V VX</th>\n",
       "      <th>Honda WR-V i-DTEC</th>\n",
       "      <th>Honda WR-V i-VTEC</th>\n",
       "    </tr>\n",
       "  </thead>\n",
       "  <tbody>\n",
       "    <tr>\n",
       "      <th>0</th>\n",
       "      <td>0</td>\n",
       "      <td>0</td>\n",
       "      <td>0</td>\n",
       "      <td>0</td>\n",
       "      <td>0</td>\n",
       "      <td>0</td>\n",
       "      <td>0</td>\n",
       "      <td>0</td>\n",
       "      <td>0</td>\n",
       "      <td>0</td>\n",
       "      <td>...</td>\n",
       "      <td>0</td>\n",
       "      <td>0</td>\n",
       "      <td>0</td>\n",
       "      <td>0</td>\n",
       "      <td>0</td>\n",
       "      <td>0</td>\n",
       "      <td>0</td>\n",
       "      <td>0</td>\n",
       "      <td>0</td>\n",
       "      <td>0</td>\n",
       "    </tr>\n",
       "    <tr>\n",
       "      <th>1</th>\n",
       "      <td>0</td>\n",
       "      <td>0</td>\n",
       "      <td>0</td>\n",
       "      <td>0</td>\n",
       "      <td>0</td>\n",
       "      <td>0</td>\n",
       "      <td>0</td>\n",
       "      <td>0</td>\n",
       "      <td>0</td>\n",
       "      <td>0</td>\n",
       "      <td>...</td>\n",
       "      <td>0</td>\n",
       "      <td>0</td>\n",
       "      <td>0</td>\n",
       "      <td>0</td>\n",
       "      <td>0</td>\n",
       "      <td>0</td>\n",
       "      <td>0</td>\n",
       "      <td>0</td>\n",
       "      <td>0</td>\n",
       "      <td>0</td>\n",
       "    </tr>\n",
       "    <tr>\n",
       "      <th>2</th>\n",
       "      <td>0</td>\n",
       "      <td>0</td>\n",
       "      <td>0</td>\n",
       "      <td>0</td>\n",
       "      <td>0</td>\n",
       "      <td>0</td>\n",
       "      <td>0</td>\n",
       "      <td>0</td>\n",
       "      <td>0</td>\n",
       "      <td>0</td>\n",
       "      <td>...</td>\n",
       "      <td>0</td>\n",
       "      <td>0</td>\n",
       "      <td>0</td>\n",
       "      <td>0</td>\n",
       "      <td>0</td>\n",
       "      <td>0</td>\n",
       "      <td>0</td>\n",
       "      <td>0</td>\n",
       "      <td>0</td>\n",
       "      <td>0</td>\n",
       "    </tr>\n",
       "    <tr>\n",
       "      <th>3</th>\n",
       "      <td>0</td>\n",
       "      <td>0</td>\n",
       "      <td>0</td>\n",
       "      <td>0</td>\n",
       "      <td>0</td>\n",
       "      <td>0</td>\n",
       "      <td>0</td>\n",
       "      <td>0</td>\n",
       "      <td>0</td>\n",
       "      <td>0</td>\n",
       "      <td>...</td>\n",
       "      <td>0</td>\n",
       "      <td>0</td>\n",
       "      <td>0</td>\n",
       "      <td>0</td>\n",
       "      <td>0</td>\n",
       "      <td>0</td>\n",
       "      <td>0</td>\n",
       "      <td>0</td>\n",
       "      <td>0</td>\n",
       "      <td>0</td>\n",
       "    </tr>\n",
       "    <tr>\n",
       "      <th>4</th>\n",
       "      <td>0</td>\n",
       "      <td>0</td>\n",
       "      <td>0</td>\n",
       "      <td>0</td>\n",
       "      <td>0</td>\n",
       "      <td>0</td>\n",
       "      <td>0</td>\n",
       "      <td>0</td>\n",
       "      <td>0</td>\n",
       "      <td>0</td>\n",
       "      <td>...</td>\n",
       "      <td>0</td>\n",
       "      <td>0</td>\n",
       "      <td>0</td>\n",
       "      <td>0</td>\n",
       "      <td>0</td>\n",
       "      <td>0</td>\n",
       "      <td>0</td>\n",
       "      <td>0</td>\n",
       "      <td>0</td>\n",
       "      <td>0</td>\n",
       "    </tr>\n",
       "  </tbody>\n",
       "</table>\n",
       "<p>5 rows × 60 columns</p>\n",
       "</div>"
      ],
      "text/plain": [
       "   Honda Accord 2.4  Honda Accord VTi-L  Honda Amaze E  Honda Amaze EX  \\\n",
       "0                 0                   0              0               0   \n",
       "1                 0                   0              0               0   \n",
       "2                 0                   0              0               0   \n",
       "3                 0                   0              0               0   \n",
       "4                 0                   0              0               0   \n",
       "\n",
       "   Honda Amaze Exclusive  Honda Amaze S  Honda Amaze SX  Honda Amaze V  \\\n",
       "0                      0              0               0              0   \n",
       "1                      0              0               0              0   \n",
       "2                      0              0               0              0   \n",
       "3                      0              0               0              0   \n",
       "4                      0              0               0              0   \n",
       "\n",
       "   Honda Amaze VX  Honda Amaze i-DTEC  ...  Honda Jazz X  Honda Mobilio E  \\\n",
       "0               0                   0  ...             0                0   \n",
       "1               0                   0  ...             0                0   \n",
       "2               0                   0  ...             0                0   \n",
       "3               0                   0  ...             0                0   \n",
       "4               0                   0  ...             0                0   \n",
       "\n",
       "   Honda Mobilio RS  Honda Mobilio S  Honda Mobilio V  Honda WR-V Edge  \\\n",
       "0                 0                0                0                0   \n",
       "1                 0                0                0                0   \n",
       "2                 0                0                0                0   \n",
       "3                 0                0                0                0   \n",
       "4                 0                0                0                0   \n",
       "\n",
       "   Honda WR-V SV  Honda WR-V VX  Honda WR-V i-DTEC  Honda WR-V i-VTEC  \n",
       "0              0              0                  0                  0  \n",
       "1              0              0                  0                  0  \n",
       "2              0              0                  0                  0  \n",
       "3              0              0                  0                  0  \n",
       "4              0              0                  0                  0  \n",
       "\n",
       "[5 rows x 60 columns]"
      ]
     },
     "execution_count": 36,
     "metadata": {},
     "output_type": "execute_result"
    }
   ],
   "source": [
    "car_dummies = pd.DataFrame(dummies3)\n",
    "car_dummies.head()"
   ]
  },
  {
   "cell_type": "markdown",
   "id": "01aa345b-c35c-4afa-9e64-cf307f61a6f4",
   "metadata": {},
   "source": [
    "### Merging df3 and car_dummies and store it into a New DataFrame"
   ]
  },
  {
   "cell_type": "code",
   "execution_count": 37,
   "id": "683cc56a-04b5-44a3-a42b-c22193487980",
   "metadata": {},
   "outputs": [
    {
     "data": {
      "text/html": [
       "<div>\n",
       "<style scoped>\n",
       "    .dataframe tbody tr th:only-of-type {\n",
       "        vertical-align: middle;\n",
       "    }\n",
       "\n",
       "    .dataframe tbody tr th {\n",
       "        vertical-align: top;\n",
       "    }\n",
       "\n",
       "    .dataframe thead th {\n",
       "        text-align: right;\n",
       "    }\n",
       "</style>\n",
       "<table border=\"1\" class=\"dataframe\">\n",
       "  <thead>\n",
       "    <tr style=\"text-align: right;\">\n",
       "      <th></th>\n",
       "      <th>Year</th>\n",
       "      <th>kms Driven</th>\n",
       "      <th>Fuel Type</th>\n",
       "      <th>Suspension</th>\n",
       "      <th>Price</th>\n",
       "      <th>Car Model</th>\n",
       "      <th>CNG</th>\n",
       "      <th>Diesel</th>\n",
       "      <th>Petrol</th>\n",
       "      <th>Automatic</th>\n",
       "      <th>...</th>\n",
       "      <th>Honda Jazz X</th>\n",
       "      <th>Honda Mobilio E</th>\n",
       "      <th>Honda Mobilio RS</th>\n",
       "      <th>Honda Mobilio S</th>\n",
       "      <th>Honda Mobilio V</th>\n",
       "      <th>Honda WR-V Edge</th>\n",
       "      <th>Honda WR-V SV</th>\n",
       "      <th>Honda WR-V VX</th>\n",
       "      <th>Honda WR-V i-DTEC</th>\n",
       "      <th>Honda WR-V i-VTEC</th>\n",
       "    </tr>\n",
       "  </thead>\n",
       "  <tbody>\n",
       "    <tr>\n",
       "      <th>0</th>\n",
       "      <td>2019</td>\n",
       "      <td>19006</td>\n",
       "      <td>Petrol</td>\n",
       "      <td>Automatic</td>\n",
       "      <td>928999</td>\n",
       "      <td>Honda City V</td>\n",
       "      <td>0</td>\n",
       "      <td>0</td>\n",
       "      <td>1</td>\n",
       "      <td>1</td>\n",
       "      <td>...</td>\n",
       "      <td>0</td>\n",
       "      <td>0</td>\n",
       "      <td>0</td>\n",
       "      <td>0</td>\n",
       "      <td>0</td>\n",
       "      <td>0</td>\n",
       "      <td>0</td>\n",
       "      <td>0</td>\n",
       "      <td>0</td>\n",
       "      <td>0</td>\n",
       "    </tr>\n",
       "    <tr>\n",
       "      <th>1</th>\n",
       "      <td>2021</td>\n",
       "      <td>11936</td>\n",
       "      <td>Petrol</td>\n",
       "      <td>Automatic</td>\n",
       "      <td>1395000</td>\n",
       "      <td>Honda City ZX</td>\n",
       "      <td>0</td>\n",
       "      <td>0</td>\n",
       "      <td>1</td>\n",
       "      <td>1</td>\n",
       "      <td>...</td>\n",
       "      <td>0</td>\n",
       "      <td>0</td>\n",
       "      <td>0</td>\n",
       "      <td>0</td>\n",
       "      <td>0</td>\n",
       "      <td>0</td>\n",
       "      <td>0</td>\n",
       "      <td>0</td>\n",
       "      <td>0</td>\n",
       "      <td>0</td>\n",
       "    </tr>\n",
       "    <tr>\n",
       "      <th>2</th>\n",
       "      <td>2018</td>\n",
       "      <td>29635</td>\n",
       "      <td>Petrol</td>\n",
       "      <td>Automatic</td>\n",
       "      <td>994999</td>\n",
       "      <td>Honda City i-VTEC</td>\n",
       "      <td>0</td>\n",
       "      <td>0</td>\n",
       "      <td>1</td>\n",
       "      <td>1</td>\n",
       "      <td>...</td>\n",
       "      <td>0</td>\n",
       "      <td>0</td>\n",
       "      <td>0</td>\n",
       "      <td>0</td>\n",
       "      <td>0</td>\n",
       "      <td>0</td>\n",
       "      <td>0</td>\n",
       "      <td>0</td>\n",
       "      <td>0</td>\n",
       "      <td>0</td>\n",
       "    </tr>\n",
       "    <tr>\n",
       "      <th>3</th>\n",
       "      <td>2020</td>\n",
       "      <td>16163</td>\n",
       "      <td>Petrol</td>\n",
       "      <td>Automatic</td>\n",
       "      <td>1326000</td>\n",
       "      <td>Honda City ZX</td>\n",
       "      <td>0</td>\n",
       "      <td>0</td>\n",
       "      <td>1</td>\n",
       "      <td>1</td>\n",
       "      <td>...</td>\n",
       "      <td>0</td>\n",
       "      <td>0</td>\n",
       "      <td>0</td>\n",
       "      <td>0</td>\n",
       "      <td>0</td>\n",
       "      <td>0</td>\n",
       "      <td>0</td>\n",
       "      <td>0</td>\n",
       "      <td>0</td>\n",
       "      <td>0</td>\n",
       "    </tr>\n",
       "    <tr>\n",
       "      <th>4</th>\n",
       "      <td>2015</td>\n",
       "      <td>105114</td>\n",
       "      <td>Petrol</td>\n",
       "      <td>Manual</td>\n",
       "      <td>568000</td>\n",
       "      <td>Honda City i</td>\n",
       "      <td>0</td>\n",
       "      <td>0</td>\n",
       "      <td>1</td>\n",
       "      <td>0</td>\n",
       "      <td>...</td>\n",
       "      <td>0</td>\n",
       "      <td>0</td>\n",
       "      <td>0</td>\n",
       "      <td>0</td>\n",
       "      <td>0</td>\n",
       "      <td>0</td>\n",
       "      <td>0</td>\n",
       "      <td>0</td>\n",
       "      <td>0</td>\n",
       "      <td>0</td>\n",
       "    </tr>\n",
       "  </tbody>\n",
       "</table>\n",
       "<p>5 rows × 71 columns</p>\n",
       "</div>"
      ],
      "text/plain": [
       "   Year  kms Driven Fuel Type Suspension    Price          Car Model  CNG  \\\n",
       "0  2019       19006    Petrol  Automatic   928999       Honda City V    0   \n",
       "1  2021       11936    Petrol  Automatic  1395000      Honda City ZX    0   \n",
       "2  2018       29635    Petrol  Automatic   994999  Honda City i-VTEC    0   \n",
       "3  2020       16163    Petrol  Automatic  1326000      Honda City ZX    0   \n",
       "4  2015      105114    Petrol     Manual   568000       Honda City i    0   \n",
       "\n",
       "   Diesel  Petrol  Automatic  ...  Honda Jazz X  Honda Mobilio E  \\\n",
       "0       0       1          1  ...             0                0   \n",
       "1       0       1          1  ...             0                0   \n",
       "2       0       1          1  ...             0                0   \n",
       "3       0       1          1  ...             0                0   \n",
       "4       0       1          0  ...             0                0   \n",
       "\n",
       "   Honda Mobilio RS  Honda Mobilio S  Honda Mobilio V  Honda WR-V Edge  \\\n",
       "0                 0                0                0                0   \n",
       "1                 0                0                0                0   \n",
       "2                 0                0                0                0   \n",
       "3                 0                0                0                0   \n",
       "4                 0                0                0                0   \n",
       "\n",
       "   Honda WR-V SV  Honda WR-V VX  Honda WR-V i-DTEC  Honda WR-V i-VTEC  \n",
       "0              0              0                  0                  0  \n",
       "1              0              0                  0                  0  \n",
       "2              0              0                  0                  0  \n",
       "3              0              0                  0                  0  \n",
       "4              0              0                  0                  0  \n",
       "\n",
       "[5 rows x 71 columns]"
      ]
     },
     "execution_count": 37,
     "metadata": {},
     "output_type": "execute_result"
    }
   ],
   "source": [
    "df4=pd.concat([df3,car_dummies],axis='columns')\n",
    "df4.head()"
   ]
  },
  {
   "cell_type": "markdown",
   "id": "18354276-0708-44b0-9452-705c66ef257e",
   "metadata": {},
   "source": [
    "### Dropping Fuel Type, Suspension, Car Model Columns after Converting it into Dummies"
   ]
  },
  {
   "cell_type": "code",
   "execution_count": 38,
   "id": "7feeb744-d9ab-4885-81e9-2468934df288",
   "metadata": {},
   "outputs": [
    {
     "data": {
      "text/html": [
       "<div>\n",
       "<style scoped>\n",
       "    .dataframe tbody tr th:only-of-type {\n",
       "        vertical-align: middle;\n",
       "    }\n",
       "\n",
       "    .dataframe tbody tr th {\n",
       "        vertical-align: top;\n",
       "    }\n",
       "\n",
       "    .dataframe thead th {\n",
       "        text-align: right;\n",
       "    }\n",
       "</style>\n",
       "<table border=\"1\" class=\"dataframe\">\n",
       "  <thead>\n",
       "    <tr style=\"text-align: right;\">\n",
       "      <th></th>\n",
       "      <th>Year</th>\n",
       "      <th>kms Driven</th>\n",
       "      <th>Price</th>\n",
       "      <th>CNG</th>\n",
       "      <th>Diesel</th>\n",
       "      <th>Petrol</th>\n",
       "      <th>Automatic</th>\n",
       "      <th>Manual</th>\n",
       "      <th>Honda Accord 2.4</th>\n",
       "      <th>Honda Accord VTi-L</th>\n",
       "      <th>...</th>\n",
       "      <th>Honda Jazz X</th>\n",
       "      <th>Honda Mobilio E</th>\n",
       "      <th>Honda Mobilio RS</th>\n",
       "      <th>Honda Mobilio S</th>\n",
       "      <th>Honda Mobilio V</th>\n",
       "      <th>Honda WR-V Edge</th>\n",
       "      <th>Honda WR-V SV</th>\n",
       "      <th>Honda WR-V VX</th>\n",
       "      <th>Honda WR-V i-DTEC</th>\n",
       "      <th>Honda WR-V i-VTEC</th>\n",
       "    </tr>\n",
       "  </thead>\n",
       "  <tbody>\n",
       "    <tr>\n",
       "      <th>0</th>\n",
       "      <td>2019</td>\n",
       "      <td>19006</td>\n",
       "      <td>928999</td>\n",
       "      <td>0</td>\n",
       "      <td>0</td>\n",
       "      <td>1</td>\n",
       "      <td>1</td>\n",
       "      <td>0</td>\n",
       "      <td>0</td>\n",
       "      <td>0</td>\n",
       "      <td>...</td>\n",
       "      <td>0</td>\n",
       "      <td>0</td>\n",
       "      <td>0</td>\n",
       "      <td>0</td>\n",
       "      <td>0</td>\n",
       "      <td>0</td>\n",
       "      <td>0</td>\n",
       "      <td>0</td>\n",
       "      <td>0</td>\n",
       "      <td>0</td>\n",
       "    </tr>\n",
       "    <tr>\n",
       "      <th>1</th>\n",
       "      <td>2021</td>\n",
       "      <td>11936</td>\n",
       "      <td>1395000</td>\n",
       "      <td>0</td>\n",
       "      <td>0</td>\n",
       "      <td>1</td>\n",
       "      <td>1</td>\n",
       "      <td>0</td>\n",
       "      <td>0</td>\n",
       "      <td>0</td>\n",
       "      <td>...</td>\n",
       "      <td>0</td>\n",
       "      <td>0</td>\n",
       "      <td>0</td>\n",
       "      <td>0</td>\n",
       "      <td>0</td>\n",
       "      <td>0</td>\n",
       "      <td>0</td>\n",
       "      <td>0</td>\n",
       "      <td>0</td>\n",
       "      <td>0</td>\n",
       "    </tr>\n",
       "    <tr>\n",
       "      <th>2</th>\n",
       "      <td>2018</td>\n",
       "      <td>29635</td>\n",
       "      <td>994999</td>\n",
       "      <td>0</td>\n",
       "      <td>0</td>\n",
       "      <td>1</td>\n",
       "      <td>1</td>\n",
       "      <td>0</td>\n",
       "      <td>0</td>\n",
       "      <td>0</td>\n",
       "      <td>...</td>\n",
       "      <td>0</td>\n",
       "      <td>0</td>\n",
       "      <td>0</td>\n",
       "      <td>0</td>\n",
       "      <td>0</td>\n",
       "      <td>0</td>\n",
       "      <td>0</td>\n",
       "      <td>0</td>\n",
       "      <td>0</td>\n",
       "      <td>0</td>\n",
       "    </tr>\n",
       "    <tr>\n",
       "      <th>3</th>\n",
       "      <td>2020</td>\n",
       "      <td>16163</td>\n",
       "      <td>1326000</td>\n",
       "      <td>0</td>\n",
       "      <td>0</td>\n",
       "      <td>1</td>\n",
       "      <td>1</td>\n",
       "      <td>0</td>\n",
       "      <td>0</td>\n",
       "      <td>0</td>\n",
       "      <td>...</td>\n",
       "      <td>0</td>\n",
       "      <td>0</td>\n",
       "      <td>0</td>\n",
       "      <td>0</td>\n",
       "      <td>0</td>\n",
       "      <td>0</td>\n",
       "      <td>0</td>\n",
       "      <td>0</td>\n",
       "      <td>0</td>\n",
       "      <td>0</td>\n",
       "    </tr>\n",
       "    <tr>\n",
       "      <th>4</th>\n",
       "      <td>2015</td>\n",
       "      <td>105114</td>\n",
       "      <td>568000</td>\n",
       "      <td>0</td>\n",
       "      <td>0</td>\n",
       "      <td>1</td>\n",
       "      <td>0</td>\n",
       "      <td>1</td>\n",
       "      <td>0</td>\n",
       "      <td>0</td>\n",
       "      <td>...</td>\n",
       "      <td>0</td>\n",
       "      <td>0</td>\n",
       "      <td>0</td>\n",
       "      <td>0</td>\n",
       "      <td>0</td>\n",
       "      <td>0</td>\n",
       "      <td>0</td>\n",
       "      <td>0</td>\n",
       "      <td>0</td>\n",
       "      <td>0</td>\n",
       "    </tr>\n",
       "  </tbody>\n",
       "</table>\n",
       "<p>5 rows × 68 columns</p>\n",
       "</div>"
      ],
      "text/plain": [
       "   Year  kms Driven    Price  CNG  Diesel  Petrol  Automatic  Manual  \\\n",
       "0  2019       19006   928999    0       0       1          1       0   \n",
       "1  2021       11936  1395000    0       0       1          1       0   \n",
       "2  2018       29635   994999    0       0       1          1       0   \n",
       "3  2020       16163  1326000    0       0       1          1       0   \n",
       "4  2015      105114   568000    0       0       1          0       1   \n",
       "\n",
       "   Honda Accord 2.4  Honda Accord VTi-L  ...  Honda Jazz X  Honda Mobilio E  \\\n",
       "0                 0                   0  ...             0                0   \n",
       "1                 0                   0  ...             0                0   \n",
       "2                 0                   0  ...             0                0   \n",
       "3                 0                   0  ...             0                0   \n",
       "4                 0                   0  ...             0                0   \n",
       "\n",
       "   Honda Mobilio RS  Honda Mobilio S  Honda Mobilio V  Honda WR-V Edge  \\\n",
       "0                 0                0                0                0   \n",
       "1                 0                0                0                0   \n",
       "2                 0                0                0                0   \n",
       "3                 0                0                0                0   \n",
       "4                 0                0                0                0   \n",
       "\n",
       "   Honda WR-V SV  Honda WR-V VX  Honda WR-V i-DTEC  Honda WR-V i-VTEC  \n",
       "0              0              0                  0                  0  \n",
       "1              0              0                  0                  0  \n",
       "2              0              0                  0                  0  \n",
       "3              0              0                  0                  0  \n",
       "4              0              0                  0                  0  \n",
       "\n",
       "[5 rows x 68 columns]"
      ]
     },
     "execution_count": 38,
     "metadata": {},
     "output_type": "execute_result"
    }
   ],
   "source": [
    "df5 = df4.drop([\"Fuel Type\",\"Suspension\",\"Car Model\"],axis = \"columns\")\n",
    "df5.head()"
   ]
  },
  {
   "cell_type": "markdown",
   "id": "ab6e3233-12ca-4d4c-9be0-b99a005bccf1",
   "metadata": {},
   "source": [
    "## Outlier Removal"
   ]
  },
  {
   "cell_type": "markdown",
   "id": "f4350ea0-eb70-4d42-94e7-4cd95c5803a2",
   "metadata": {},
   "source": [
    "### Describing the Dataset"
   ]
  },
  {
   "cell_type": "markdown",
   "id": "a84bf39c-fe24-460e-9d89-f11ed2a2ac33",
   "metadata": {},
   "source": [
    "Here, we can see our 75% of Cars has driven 85000 kms and our Maximum Value in kms Driven is 11 Lakh kms which is an Outlier\r\n",
    "\r\n",
    "Here, we can see our 75% of Cars has Price 7 Lakh and our Maximum Price is 26 Lakh which is an Outlier"
   ]
  },
  {
   "cell_type": "code",
   "execution_count": 39,
   "id": "6e7c6df9-7b45-4ec1-90cb-f93eb37a0de4",
   "metadata": {},
   "outputs": [
    {
     "data": {
      "text/html": [
       "<div>\n",
       "<style scoped>\n",
       "    .dataframe tbody tr th:only-of-type {\n",
       "        vertical-align: middle;\n",
       "    }\n",
       "\n",
       "    .dataframe tbody tr th {\n",
       "        vertical-align: top;\n",
       "    }\n",
       "\n",
       "    .dataframe thead th {\n",
       "        text-align: right;\n",
       "    }\n",
       "</style>\n",
       "<table border=\"1\" class=\"dataframe\">\n",
       "  <thead>\n",
       "    <tr style=\"text-align: right;\">\n",
       "      <th></th>\n",
       "      <th>Year</th>\n",
       "      <th>kms Driven</th>\n",
       "      <th>Price</th>\n",
       "      <th>CNG</th>\n",
       "      <th>Diesel</th>\n",
       "      <th>Petrol</th>\n",
       "      <th>Automatic</th>\n",
       "      <th>Manual</th>\n",
       "      <th>Honda Accord 2.4</th>\n",
       "      <th>Honda Accord VTi-L</th>\n",
       "      <th>...</th>\n",
       "      <th>Honda Jazz X</th>\n",
       "      <th>Honda Mobilio E</th>\n",
       "      <th>Honda Mobilio RS</th>\n",
       "      <th>Honda Mobilio S</th>\n",
       "      <th>Honda Mobilio V</th>\n",
       "      <th>Honda WR-V Edge</th>\n",
       "      <th>Honda WR-V SV</th>\n",
       "      <th>Honda WR-V VX</th>\n",
       "      <th>Honda WR-V i-DTEC</th>\n",
       "      <th>Honda WR-V i-VTEC</th>\n",
       "    </tr>\n",
       "  </thead>\n",
       "  <tbody>\n",
       "    <tr>\n",
       "      <th>count</th>\n",
       "      <td>999.000000</td>\n",
       "      <td>9.990000e+02</td>\n",
       "      <td>9.990000e+02</td>\n",
       "      <td>999.000000</td>\n",
       "      <td>999.000000</td>\n",
       "      <td>999.000000</td>\n",
       "      <td>999.000000</td>\n",
       "      <td>999.000000</td>\n",
       "      <td>999.000000</td>\n",
       "      <td>999.000000</td>\n",
       "      <td>...</td>\n",
       "      <td>999.000000</td>\n",
       "      <td>999.000000</td>\n",
       "      <td>999.000000</td>\n",
       "      <td>999.000000</td>\n",
       "      <td>999.000000</td>\n",
       "      <td>999.000000</td>\n",
       "      <td>999.000000</td>\n",
       "      <td>999.000000</td>\n",
       "      <td>999.000000</td>\n",
       "      <td>999.000000</td>\n",
       "    </tr>\n",
       "    <tr>\n",
       "      <th>mean</th>\n",
       "      <td>2014.717718</td>\n",
       "      <td>6.607667e+04</td>\n",
       "      <td>5.530370e+05</td>\n",
       "      <td>0.001001</td>\n",
       "      <td>0.201201</td>\n",
       "      <td>0.797798</td>\n",
       "      <td>0.223223</td>\n",
       "      <td>0.776777</td>\n",
       "      <td>0.013013</td>\n",
       "      <td>0.001001</td>\n",
       "      <td>...</td>\n",
       "      <td>0.004004</td>\n",
       "      <td>0.001001</td>\n",
       "      <td>0.004004</td>\n",
       "      <td>0.005005</td>\n",
       "      <td>0.009009</td>\n",
       "      <td>0.002002</td>\n",
       "      <td>0.001001</td>\n",
       "      <td>0.003003</td>\n",
       "      <td>0.019019</td>\n",
       "      <td>0.018018</td>\n",
       "    </tr>\n",
       "    <tr>\n",
       "      <th>std</th>\n",
       "      <td>3.713756</td>\n",
       "      <td>5.310468e+04</td>\n",
       "      <td>3.030851e+05</td>\n",
       "      <td>0.031639</td>\n",
       "      <td>0.401099</td>\n",
       "      <td>0.401843</td>\n",
       "      <td>0.416615</td>\n",
       "      <td>0.416615</td>\n",
       "      <td>0.113387</td>\n",
       "      <td>0.031639</td>\n",
       "      <td>...</td>\n",
       "      <td>0.063182</td>\n",
       "      <td>0.031639</td>\n",
       "      <td>0.063182</td>\n",
       "      <td>0.070604</td>\n",
       "      <td>0.094535</td>\n",
       "      <td>0.044721</td>\n",
       "      <td>0.031639</td>\n",
       "      <td>0.054745</td>\n",
       "      <td>0.136660</td>\n",
       "      <td>0.133083</td>\n",
       "    </tr>\n",
       "    <tr>\n",
       "      <th>min</th>\n",
       "      <td>2000.000000</td>\n",
       "      <td>1.425000e+03</td>\n",
       "      <td>4.500000e+04</td>\n",
       "      <td>0.000000</td>\n",
       "      <td>0.000000</td>\n",
       "      <td>0.000000</td>\n",
       "      <td>0.000000</td>\n",
       "      <td>0.000000</td>\n",
       "      <td>0.000000</td>\n",
       "      <td>0.000000</td>\n",
       "      <td>...</td>\n",
       "      <td>0.000000</td>\n",
       "      <td>0.000000</td>\n",
       "      <td>0.000000</td>\n",
       "      <td>0.000000</td>\n",
       "      <td>0.000000</td>\n",
       "      <td>0.000000</td>\n",
       "      <td>0.000000</td>\n",
       "      <td>0.000000</td>\n",
       "      <td>0.000000</td>\n",
       "      <td>0.000000</td>\n",
       "    </tr>\n",
       "    <tr>\n",
       "      <th>25%</th>\n",
       "      <td>2013.000000</td>\n",
       "      <td>3.534100e+04</td>\n",
       "      <td>3.265000e+05</td>\n",
       "      <td>0.000000</td>\n",
       "      <td>0.000000</td>\n",
       "      <td>1.000000</td>\n",
       "      <td>0.000000</td>\n",
       "      <td>1.000000</td>\n",
       "      <td>0.000000</td>\n",
       "      <td>0.000000</td>\n",
       "      <td>...</td>\n",
       "      <td>0.000000</td>\n",
       "      <td>0.000000</td>\n",
       "      <td>0.000000</td>\n",
       "      <td>0.000000</td>\n",
       "      <td>0.000000</td>\n",
       "      <td>0.000000</td>\n",
       "      <td>0.000000</td>\n",
       "      <td>0.000000</td>\n",
       "      <td>0.000000</td>\n",
       "      <td>0.000000</td>\n",
       "    </tr>\n",
       "    <tr>\n",
       "      <th>50%</th>\n",
       "      <td>2015.000000</td>\n",
       "      <td>5.990000e+04</td>\n",
       "      <td>5.099990e+05</td>\n",
       "      <td>0.000000</td>\n",
       "      <td>0.000000</td>\n",
       "      <td>1.000000</td>\n",
       "      <td>0.000000</td>\n",
       "      <td>1.000000</td>\n",
       "      <td>0.000000</td>\n",
       "      <td>0.000000</td>\n",
       "      <td>...</td>\n",
       "      <td>0.000000</td>\n",
       "      <td>0.000000</td>\n",
       "      <td>0.000000</td>\n",
       "      <td>0.000000</td>\n",
       "      <td>0.000000</td>\n",
       "      <td>0.000000</td>\n",
       "      <td>0.000000</td>\n",
       "      <td>0.000000</td>\n",
       "      <td>0.000000</td>\n",
       "      <td>0.000000</td>\n",
       "    </tr>\n",
       "    <tr>\n",
       "      <th>75%</th>\n",
       "      <td>2017.000000</td>\n",
       "      <td>8.528750e+04</td>\n",
       "      <td>7.000000e+05</td>\n",
       "      <td>0.000000</td>\n",
       "      <td>0.000000</td>\n",
       "      <td>1.000000</td>\n",
       "      <td>0.000000</td>\n",
       "      <td>1.000000</td>\n",
       "      <td>0.000000</td>\n",
       "      <td>0.000000</td>\n",
       "      <td>...</td>\n",
       "      <td>0.000000</td>\n",
       "      <td>0.000000</td>\n",
       "      <td>0.000000</td>\n",
       "      <td>0.000000</td>\n",
       "      <td>0.000000</td>\n",
       "      <td>0.000000</td>\n",
       "      <td>0.000000</td>\n",
       "      <td>0.000000</td>\n",
       "      <td>0.000000</td>\n",
       "      <td>0.000000</td>\n",
       "    </tr>\n",
       "    <tr>\n",
       "      <th>max</th>\n",
       "      <td>2023.000000</td>\n",
       "      <td>1.100000e+06</td>\n",
       "      <td>2.650000e+06</td>\n",
       "      <td>1.000000</td>\n",
       "      <td>1.000000</td>\n",
       "      <td>1.000000</td>\n",
       "      <td>1.000000</td>\n",
       "      <td>1.000000</td>\n",
       "      <td>1.000000</td>\n",
       "      <td>1.000000</td>\n",
       "      <td>...</td>\n",
       "      <td>1.000000</td>\n",
       "      <td>1.000000</td>\n",
       "      <td>1.000000</td>\n",
       "      <td>1.000000</td>\n",
       "      <td>1.000000</td>\n",
       "      <td>1.000000</td>\n",
       "      <td>1.000000</td>\n",
       "      <td>1.000000</td>\n",
       "      <td>1.000000</td>\n",
       "      <td>1.000000</td>\n",
       "    </tr>\n",
       "  </tbody>\n",
       "</table>\n",
       "<p>8 rows × 68 columns</p>\n",
       "</div>"
      ],
      "text/plain": [
       "              Year    kms Driven         Price         CNG      Diesel  \\\n",
       "count   999.000000  9.990000e+02  9.990000e+02  999.000000  999.000000   \n",
       "mean   2014.717718  6.607667e+04  5.530370e+05    0.001001    0.201201   \n",
       "std       3.713756  5.310468e+04  3.030851e+05    0.031639    0.401099   \n",
       "min    2000.000000  1.425000e+03  4.500000e+04    0.000000    0.000000   \n",
       "25%    2013.000000  3.534100e+04  3.265000e+05    0.000000    0.000000   \n",
       "50%    2015.000000  5.990000e+04  5.099990e+05    0.000000    0.000000   \n",
       "75%    2017.000000  8.528750e+04  7.000000e+05    0.000000    0.000000   \n",
       "max    2023.000000  1.100000e+06  2.650000e+06    1.000000    1.000000   \n",
       "\n",
       "           Petrol   Automatic      Manual  Honda Accord 2.4  \\\n",
       "count  999.000000  999.000000  999.000000        999.000000   \n",
       "mean     0.797798    0.223223    0.776777          0.013013   \n",
       "std      0.401843    0.416615    0.416615          0.113387   \n",
       "min      0.000000    0.000000    0.000000          0.000000   \n",
       "25%      1.000000    0.000000    1.000000          0.000000   \n",
       "50%      1.000000    0.000000    1.000000          0.000000   \n",
       "75%      1.000000    0.000000    1.000000          0.000000   \n",
       "max      1.000000    1.000000    1.000000          1.000000   \n",
       "\n",
       "       Honda Accord VTi-L  ...  Honda Jazz X  Honda Mobilio E  \\\n",
       "count          999.000000  ...    999.000000       999.000000   \n",
       "mean             0.001001  ...      0.004004         0.001001   \n",
       "std              0.031639  ...      0.063182         0.031639   \n",
       "min              0.000000  ...      0.000000         0.000000   \n",
       "25%              0.000000  ...      0.000000         0.000000   \n",
       "50%              0.000000  ...      0.000000         0.000000   \n",
       "75%              0.000000  ...      0.000000         0.000000   \n",
       "max              1.000000  ...      1.000000         1.000000   \n",
       "\n",
       "       Honda Mobilio RS  Honda Mobilio S  Honda Mobilio V  Honda WR-V Edge  \\\n",
       "count        999.000000       999.000000       999.000000       999.000000   \n",
       "mean           0.004004         0.005005         0.009009         0.002002   \n",
       "std            0.063182         0.070604         0.094535         0.044721   \n",
       "min            0.000000         0.000000         0.000000         0.000000   \n",
       "25%            0.000000         0.000000         0.000000         0.000000   \n",
       "50%            0.000000         0.000000         0.000000         0.000000   \n",
       "75%            0.000000         0.000000         0.000000         0.000000   \n",
       "max            1.000000         1.000000         1.000000         1.000000   \n",
       "\n",
       "       Honda WR-V SV  Honda WR-V VX  Honda WR-V i-DTEC  Honda WR-V i-VTEC  \n",
       "count     999.000000     999.000000         999.000000         999.000000  \n",
       "mean        0.001001       0.003003           0.019019           0.018018  \n",
       "std         0.031639       0.054745           0.136660           0.133083  \n",
       "min         0.000000       0.000000           0.000000           0.000000  \n",
       "25%         0.000000       0.000000           0.000000           0.000000  \n",
       "50%         0.000000       0.000000           0.000000           0.000000  \n",
       "75%         0.000000       0.000000           0.000000           0.000000  \n",
       "max         1.000000       1.000000           1.000000           1.000000  \n",
       "\n",
       "[8 rows x 68 columns]"
      ]
     },
     "execution_count": 39,
     "metadata": {},
     "output_type": "execute_result"
    }
   ],
   "source": [
    "df5.describe()"
   ]
  },
  {
   "cell_type": "markdown",
   "id": "88eb964e-7c64-4007-9e72-05364e3775e3",
   "metadata": {},
   "source": [
    "So we will filter all the Cars with kms Driven less than 1.5 Lakh kms for best possible Result"
   ]
  },
  {
   "cell_type": "code",
   "execution_count": 40,
   "id": "aa0f753d-e045-488d-8b47-91198722c349",
   "metadata": {},
   "outputs": [],
   "source": [
    "df5 = df5[df5[\"kms Driven\"]<150000]"
   ]
  },
  {
   "cell_type": "markdown",
   "id": "bf443b06-cedc-4024-8daa-1a5c3cd484f8",
   "metadata": {},
   "source": [
    "So we will filter all the Cars with Price less than 10 Lakh for best possible Result"
   ]
  },
  {
   "cell_type": "code",
   "execution_count": 41,
   "id": "e4d07d29-6994-4238-a62d-4d5f6e52ad1f",
   "metadata": {},
   "outputs": [],
   "source": [
    "df5 = df5[df5[\"Price\"]<1000000]"
   ]
  },
  {
   "cell_type": "markdown",
   "id": "c958716f-f6ec-48c4-bebf-110f6f13be5b",
   "metadata": {},
   "source": [
    "## Model Building"
   ]
  },
  {
   "cell_type": "markdown",
   "id": "3652bc61-8f5d-46fe-9cf4-319190553e36",
   "metadata": {},
   "source": [
    "### Defining Dependent and Independent Variables"
   ]
  },
  {
   "cell_type": "code",
   "execution_count": 42,
   "id": "fce08440-a104-4f47-9467-d7ef6a5647cb",
   "metadata": {},
   "outputs": [],
   "source": [
    "X = df5.drop([\"Price\"],axis = \"columns\") #Independent variables are the variables used to predict or explain the dependent variable, denoted as \"X\".\n",
    "y = df5.Price # The dependent variable is the variable you want to predict or explain, denoted as \"Y\""
   ]
  },
  {
   "cell_type": "markdown",
   "id": "ce087c78-1c96-481c-a529-be639f8eb82d",
   "metadata": {},
   "source": [
    "### Train Test Split"
   ]
  },
  {
   "cell_type": "markdown",
   "id": "72f1b384-4677-4747-9404-20f887ed2be1",
   "metadata": {},
   "source": [
    "the train-test split is a critical step in machine learning model development. It allows you to train the model on a portion of the data and evaluate its performance on unseen data, providing insights into how well the model generalizes to new examples."
   ]
  },
  {
   "cell_type": "code",
   "execution_count": 43,
   "id": "ae6f4b53-1bd6-4fc5-9117-2e5b10843aa2",
   "metadata": {},
   "outputs": [],
   "source": [
    "from sklearn.model_selection import train_test_split"
   ]
  },
  {
   "cell_type": "code",
   "execution_count": 44,
   "id": "7da2decf-9fc1-4802-ad7e-28961edf3831",
   "metadata": {},
   "outputs": [],
   "source": [
    "X_train, X_test, y_train, y_test = train_test_split(X, y, test_size = 0.33, random_state = 10)"
   ]
  },
  {
   "cell_type": "markdown",
   "id": "07c14c80-d9c7-4fa7-b1eb-212e5822b4c5",
   "metadata": {},
   "source": [
    "X and y are the feature matrix and target vector, respectively.\r\n",
    "\r\n",
    "X contains the independent variables or features used to predict the target variable y.\r\n",
    "y contains the dependent variable or target variable to be predicted.\r\n",
    "train_test_split is a function from scikit-lded) that splits the dataset into training and testing sets.\r\n",
    "\r\n",
    "test_size=0.33 specifies the proportion of the dataset to include in the testing set. Here, it's set to 0.33, meaning 33% of the data will be used for testing, and the remaining 67% will be used for training.\r\n",
    "\r\n",
    "random_state=10 is used to ensure reproducibility of the split. It sets a seed for the random number generator used by the train-test split algorithm. Providing a specific value for random_state ensures that the split will be the same every time you run the code, which can be helpful for reproducibility and debugging purposes."
   ]
  },
  {
   "cell_type": "markdown",
   "id": "cb60497c-af52-416c-998d-f0225f5e4185",
   "metadata": {},
   "source": [
    "### Importing LinearRegression Model"
   ]
  },
  {
   "cell_type": "code",
   "execution_count": 45,
   "id": "1a616216-c070-4645-8ee1-27ef9c853256",
   "metadata": {},
   "outputs": [],
   "source": [
    "from sklearn.linear_model import LinearRegression"
   ]
  },
  {
   "cell_type": "code",
   "execution_count": 46,
   "id": "2225136c-a142-4096-a1c6-c2e09cfd6b8c",
   "metadata": {},
   "outputs": [],
   "source": [
    "lr = LinearRegression()"
   ]
  },
  {
   "cell_type": "markdown",
   "id": "7577c803-6751-4fcc-8b48-8973924658dc",
   "metadata": {},
   "source": [
    "### Fitting the Model"
   ]
  },
  {
   "cell_type": "code",
   "execution_count": 47,
   "id": "502da3fd-b3c9-44b9-a269-117580d64224",
   "metadata": {},
   "outputs": [
    {
     "data": {
      "text/html": [
       "<style>#sk-container-id-1 {color: black;}#sk-container-id-1 pre{padding: 0;}#sk-container-id-1 div.sk-toggleable {background-color: white;}#sk-container-id-1 label.sk-toggleable__label {cursor: pointer;display: block;width: 100%;margin-bottom: 0;padding: 0.3em;box-sizing: border-box;text-align: center;}#sk-container-id-1 label.sk-toggleable__label-arrow:before {content: \"▸\";float: left;margin-right: 0.25em;color: #696969;}#sk-container-id-1 label.sk-toggleable__label-arrow:hover:before {color: black;}#sk-container-id-1 div.sk-estimator:hover label.sk-toggleable__label-arrow:before {color: black;}#sk-container-id-1 div.sk-toggleable__content {max-height: 0;max-width: 0;overflow: hidden;text-align: left;background-color: #f0f8ff;}#sk-container-id-1 div.sk-toggleable__content pre {margin: 0.2em;color: black;border-radius: 0.25em;background-color: #f0f8ff;}#sk-container-id-1 input.sk-toggleable__control:checked~div.sk-toggleable__content {max-height: 200px;max-width: 100%;overflow: auto;}#sk-container-id-1 input.sk-toggleable__control:checked~label.sk-toggleable__label-arrow:before {content: \"▾\";}#sk-container-id-1 div.sk-estimator input.sk-toggleable__control:checked~label.sk-toggleable__label {background-color: #d4ebff;}#sk-container-id-1 div.sk-label input.sk-toggleable__control:checked~label.sk-toggleable__label {background-color: #d4ebff;}#sk-container-id-1 input.sk-hidden--visually {border: 0;clip: rect(1px 1px 1px 1px);clip: rect(1px, 1px, 1px, 1px);height: 1px;margin: -1px;overflow: hidden;padding: 0;position: absolute;width: 1px;}#sk-container-id-1 div.sk-estimator {font-family: monospace;background-color: #f0f8ff;border: 1px dotted black;border-radius: 0.25em;box-sizing: border-box;margin-bottom: 0.5em;}#sk-container-id-1 div.sk-estimator:hover {background-color: #d4ebff;}#sk-container-id-1 div.sk-parallel-item::after {content: \"\";width: 100%;border-bottom: 1px solid gray;flex-grow: 1;}#sk-container-id-1 div.sk-label:hover label.sk-toggleable__label {background-color: #d4ebff;}#sk-container-id-1 div.sk-serial::before {content: \"\";position: absolute;border-left: 1px solid gray;box-sizing: border-box;top: 0;bottom: 0;left: 50%;z-index: 0;}#sk-container-id-1 div.sk-serial {display: flex;flex-direction: column;align-items: center;background-color: white;padding-right: 0.2em;padding-left: 0.2em;position: relative;}#sk-container-id-1 div.sk-item {position: relative;z-index: 1;}#sk-container-id-1 div.sk-parallel {display: flex;align-items: stretch;justify-content: center;background-color: white;position: relative;}#sk-container-id-1 div.sk-item::before, #sk-container-id-1 div.sk-parallel-item::before {content: \"\";position: absolute;border-left: 1px solid gray;box-sizing: border-box;top: 0;bottom: 0;left: 50%;z-index: -1;}#sk-container-id-1 div.sk-parallel-item {display: flex;flex-direction: column;z-index: 1;position: relative;background-color: white;}#sk-container-id-1 div.sk-parallel-item:first-child::after {align-self: flex-end;width: 50%;}#sk-container-id-1 div.sk-parallel-item:last-child::after {align-self: flex-start;width: 50%;}#sk-container-id-1 div.sk-parallel-item:only-child::after {width: 0;}#sk-container-id-1 div.sk-dashed-wrapped {border: 1px dashed gray;margin: 0 0.4em 0.5em 0.4em;box-sizing: border-box;padding-bottom: 0.4em;background-color: white;}#sk-container-id-1 div.sk-label label {font-family: monospace;font-weight: bold;display: inline-block;line-height: 1.2em;}#sk-container-id-1 div.sk-label-container {text-align: center;}#sk-container-id-1 div.sk-container {/* jupyter's `normalize.less` sets `[hidden] { display: none; }` but bootstrap.min.css set `[hidden] { display: none !important; }` so we also need the `!important` here to be able to override the default hidden behavior on the sphinx rendered scikit-learn.org. See: https://github.com/scikit-learn/scikit-learn/issues/21755 */display: inline-block !important;position: relative;}#sk-container-id-1 div.sk-text-repr-fallback {display: none;}</style><div id=\"sk-container-id-1\" class=\"sk-top-container\"><div class=\"sk-text-repr-fallback\"><pre>LinearRegression()</pre><b>In a Jupyter environment, please rerun this cell to show the HTML representation or trust the notebook. <br />On GitHub, the HTML representation is unable to render, please try loading this page with nbviewer.org.</b></div><div class=\"sk-container\" hidden><div class=\"sk-item\"><div class=\"sk-estimator sk-toggleable\"><input class=\"sk-toggleable__control sk-hidden--visually\" id=\"sk-estimator-id-1\" type=\"checkbox\" checked><label for=\"sk-estimator-id-1\" class=\"sk-toggleable__label sk-toggleable__label-arrow\">LinearRegression</label><div class=\"sk-toggleable__content\"><pre>LinearRegression()</pre></div></div></div></div></div>"
      ],
      "text/plain": [
       "LinearRegression()"
      ]
     },
     "execution_count": 47,
     "metadata": {},
     "output_type": "execute_result"
    }
   ],
   "source": [
    "lr.fit(X_train,y_train)"
   ]
  },
  {
   "cell_type": "markdown",
   "id": "8bb6b148-fb84-4fdb-87ae-5a1cecbb79a5",
   "metadata": {},
   "source": [
    "In a Jupyter environment, please rerun this cell to show the HTML representation or trust the notebook.\r\n",
    "On GitHub, the HTML representation is unable to render, please try loading this page with nbviewer.org."
   ]
  },
  {
   "cell_type": "markdown",
   "id": "539f9c67-807b-49b1-9ee3-ff91f5b467f9",
   "metadata": {},
   "source": [
    "### Score of the Model"
   ]
  },
  {
   "cell_type": "code",
   "execution_count": 48,
   "id": "ae664ea2-1c2d-46bb-8763-655a94adcb90",
   "metadata": {},
   "outputs": [
    {
     "data": {
      "text/plain": [
       "0.8211897942752131"
      ]
     },
     "execution_count": 48,
     "metadata": {},
     "output_type": "execute_result"
    }
   ],
   "source": [
    "lr.score(X_test,y_test)"
   ]
  },
  {
   "cell_type": "markdown",
   "id": "61cbb803-8101-4bc8-825d-8f6c0e8b08a9",
   "metadata": {},
   "source": [
    "### Importing KFold for measuring Model Accuracy"
   ]
  },
  {
   "cell_type": "code",
   "execution_count": 49,
   "id": "e5500b25-ad1c-489e-aaf8-87a3453d3581",
   "metadata": {},
   "outputs": [],
   "source": [
    "from sklearn.model_selection import KFold"
   ]
  },
  {
   "cell_type": "markdown",
   "id": "d1417ad7-9455-463f-a819-eef5de8ca4e4",
   "metadata": {},
   "source": [
    "KFold is a technique used to evaluate the performance of a machine learning model by partitioning the dataset into k subsets (or folds) of approximately equal size.\n",
    "The model is trained and evaluated k times, where each time it is trained on k-1 folds and tested on the remaining fold.\n",
    "This process ensures that each data point is used for testing exactly once and allows for a more robust estimation of the model's performance than a single train-test split."
   ]
  },
  {
   "cell_type": "code",
   "execution_count": 50,
   "id": "617f367c-8787-4a36-adf5-5d7425ea8ec1",
   "metadata": {},
   "outputs": [
    {
     "data": {
      "text/plain": [
       "KFold(n_splits=5, random_state=None, shuffle=False)"
      ]
     },
     "execution_count": 50,
     "metadata": {},
     "output_type": "execute_result"
    }
   ],
   "source": [
    "kf = KFold(n_splits = 5)\n",
    "kf"
   ]
  },
  {
   "cell_type": "markdown",
   "id": "dc0209cb-f24e-4701-af80-55e46692a416",
   "metadata": {},
   "source": [
    "### Importing CrossValScore for Best Score"
   ]
  },
  {
   "cell_type": "code",
   "execution_count": 51,
   "id": "683b3958-b3af-4754-9144-6523f0a006df",
   "metadata": {},
   "outputs": [],
   "source": [
    "from sklearn.model_selection import cross_val_score"
   ]
  },
  {
   "cell_type": "code",
   "execution_count": 52,
   "id": "9c5cb971-ab4a-4953-9b3c-718811ab14f1",
   "metadata": {},
   "outputs": [],
   "source": [
    "cross_val = cross_val_score(LinearRegression(),X,y)"
   ]
  },
  {
   "cell_type": "markdown",
   "id": "c151686d-3391-4e47-8cdb-4ac9a9de8b02",
   "metadata": {},
   "source": [
    "### Mean of CrossValScore"
   ]
  },
  {
   "cell_type": "code",
   "execution_count": 53,
   "id": "6d2c604e-0430-4e5e-8999-3062d310b6f6",
   "metadata": {},
   "outputs": [
    {
     "data": {
      "text/plain": [
       "0.8335835128647922"
      ]
     },
     "execution_count": 53,
     "metadata": {},
     "output_type": "execute_result"
    }
   ],
   "source": [
    "cross_val.mean()"
   ]
  },
  {
   "cell_type": "markdown",
   "id": "7c128026-1a7b-4846-aec0-5c273291b44b",
   "metadata": {},
   "source": [
    "### Predicting the Output"
   ]
  },
  {
   "cell_type": "code",
   "execution_count": 54,
   "id": "1d476ec0-7165-47da-bc0c-470b73044ec2",
   "metadata": {},
   "outputs": [],
   "source": [
    "y_predicted = lr.predict(X_test)"
   ]
  }
 ],
 "metadata": {
  "kernelspec": {
   "display_name": "Python 3 (ipykernel)",
   "language": "python",
   "name": "python3"
  },
  "language_info": {
   "codemirror_mode": {
    "name": "ipython",
    "version": 3
   },
   "file_extension": ".py",
   "mimetype": "text/x-python",
   "name": "python",
   "nbconvert_exporter": "python",
   "pygments_lexer": "ipython3",
   "version": "3.11.4"
  }
 },
 "nbformat": 4,
 "nbformat_minor": 5
}
